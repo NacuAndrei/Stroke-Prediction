{
  "nbformat": 4,
  "nbformat_minor": 0,
  "metadata": {
    "colab": {
      "provenance": []
    },
    "kernelspec": {
      "name": "python3",
      "display_name": "Python 3"
    },
    "language_info": {
      "name": "python"
    },
    "accelerator": "GPU",
    "gpuClass": "standard"
  },
  "cells": [
    {
      "cell_type": "markdown",
      "source": [
        "# Step 0:\n",
        "\n",
        "- mounted drive\n",
        "- loaded csv file"
      ],
      "metadata": {
        "id": "-2XNih-GEVru"
      }
    },
    {
      "cell_type": "code",
      "execution_count": null,
      "metadata": {
        "id": "S1xwwSL7sAts"
      },
      "outputs": [],
      "source": [
        "import numpy as np\n",
        "import pandas as pd\n",
        "import os\n",
        "import torch\n",
        "import torch.nn as nn\n",
        "import random\n",
        "from torchvision.io import read_image\n",
        "from torch.utils.data import Dataset\n",
        "from torch.utils.data import DataLoader\n",
        "from sklearn.model_selection import train_test_split\n",
        "from sklearn.metrics import accuracy_score, confusion_matrix, ConfusionMatrixDisplay, classification_report\n",
        "from sklearn.preprocessing import StandardScaler\n",
        "from typing import Iterator, List, Callable, Tuple\n",
        "from matplotlib import pyplot as plt"
      ]
    },
    {
      "cell_type": "code",
      "source": [
        "from google.colab import drive\n",
        "drive.mount('/content/drive/')"
      ],
      "metadata": {
        "colab": {
          "base_uri": "https://localhost:8080/"
        },
        "id": "x4omsfGSs0xf",
        "outputId": "3f39f587-8815-43af-b796-0cd0656b4299"
      },
      "execution_count": null,
      "outputs": [
        {
          "output_type": "stream",
          "name": "stdout",
          "text": [
            "Drive already mounted at /content/drive/; to attempt to forcibly remount, call drive.mount(\"/content/drive/\", force_remount=True).\n"
          ]
        }
      ]
    },
    {
      "cell_type": "code",
      "source": [
        "path = '/content/drive/MyDrive/BitdefenderFmiAssignments/Assignment1/pmi-data.csv'"
      ],
      "metadata": {
        "id": "rQqowvj-1H-7"
      },
      "execution_count": null,
      "outputs": []
    },
    {
      "cell_type": "code",
      "source": [
        "df = pd.read_csv(path)\n",
        "df.describe()"
      ],
      "metadata": {
        "colab": {
          "base_uri": "https://localhost:8080/",
          "height": 300
        },
        "id": "JYPgCmzb2hhR",
        "outputId": "cde859f0-0f8e-4f16-fdb4-d3f19a9d6e3c"
      },
      "execution_count": null,
      "outputs": [
        {
          "output_type": "execute_result",
          "data": {
            "text/plain": [
              "        Unnamed: 0            id       gender          age  hypertension  \\\n",
              "count  3566.000000   3566.000000  3566.000000  3566.000000   3566.000000   \n",
              "mean   2523.911666  36785.750701     1.394279    48.853898      0.125070   \n",
              "std    1490.463154  21239.999608     0.489337    18.874375      0.330845   \n",
              "min       0.000000     67.000000     0.000000    10.000000      0.000000   \n",
              "25%    1221.750000  18042.750000     1.000000    34.000000      0.000000   \n",
              "50%    2518.500000  37448.500000     1.000000    50.000000      0.000000   \n",
              "75%    3819.500000  54984.250000     2.000000    63.000000      0.000000   \n",
              "max    5108.000000  72915.000000     2.000000    82.000000      1.000000   \n",
              "\n",
              "       heart_disease  ever_married    work_type  Residence_type  \\\n",
              "count    3566.000000   3566.000000  3566.000000     3566.000000   \n",
              "mean        0.063937      0.759955     3.424846        0.491307   \n",
              "std         0.244675      0.427170     0.894640        0.499995   \n",
              "min         0.000000      0.000000     0.000000        0.000000   \n",
              "25%         0.000000      1.000000     3.000000        0.000000   \n",
              "50%         0.000000      1.000000     4.000000        0.000000   \n",
              "75%         0.000000      1.000000     4.000000        1.000000   \n",
              "max         1.000000      1.000000     4.000000        1.000000   \n",
              "\n",
              "       avg_glucose_level          bmi  smoking_status       stroke  \n",
              "count        3566.000000  3566.000000     3566.000000  3566.000000  \n",
              "mean          108.982011    30.243326        1.309310     0.056646  \n",
              "std            48.292204     7.155000        0.810144     0.231198  \n",
              "min            55.120000    11.500000        0.000000     0.000000  \n",
              "25%            77.460000    25.400000        1.000000     0.000000  \n",
              "50%            92.650000    29.100000        2.000000     0.000000  \n",
              "75%           116.677500    33.800000        2.000000     0.000000  \n",
              "max           271.740000    92.000000        2.000000     1.000000  "
            ],
            "text/html": [
              "\n",
              "  <div id=\"df-ed891c60-d340-4afa-a164-45dc593b8863\">\n",
              "    <div class=\"colab-df-container\">\n",
              "      <div>\n",
              "<style scoped>\n",
              "    .dataframe tbody tr th:only-of-type {\n",
              "        vertical-align: middle;\n",
              "    }\n",
              "\n",
              "    .dataframe tbody tr th {\n",
              "        vertical-align: top;\n",
              "    }\n",
              "\n",
              "    .dataframe thead th {\n",
              "        text-align: right;\n",
              "    }\n",
              "</style>\n",
              "<table border=\"1\" class=\"dataframe\">\n",
              "  <thead>\n",
              "    <tr style=\"text-align: right;\">\n",
              "      <th></th>\n",
              "      <th>Unnamed: 0</th>\n",
              "      <th>id</th>\n",
              "      <th>gender</th>\n",
              "      <th>age</th>\n",
              "      <th>hypertension</th>\n",
              "      <th>heart_disease</th>\n",
              "      <th>ever_married</th>\n",
              "      <th>work_type</th>\n",
              "      <th>Residence_type</th>\n",
              "      <th>avg_glucose_level</th>\n",
              "      <th>bmi</th>\n",
              "      <th>smoking_status</th>\n",
              "      <th>stroke</th>\n",
              "    </tr>\n",
              "  </thead>\n",
              "  <tbody>\n",
              "    <tr>\n",
              "      <th>count</th>\n",
              "      <td>3566.000000</td>\n",
              "      <td>3566.000000</td>\n",
              "      <td>3566.000000</td>\n",
              "      <td>3566.000000</td>\n",
              "      <td>3566.000000</td>\n",
              "      <td>3566.000000</td>\n",
              "      <td>3566.000000</td>\n",
              "      <td>3566.000000</td>\n",
              "      <td>3566.000000</td>\n",
              "      <td>3566.000000</td>\n",
              "      <td>3566.000000</td>\n",
              "      <td>3566.000000</td>\n",
              "      <td>3566.000000</td>\n",
              "    </tr>\n",
              "    <tr>\n",
              "      <th>mean</th>\n",
              "      <td>2523.911666</td>\n",
              "      <td>36785.750701</td>\n",
              "      <td>1.394279</td>\n",
              "      <td>48.853898</td>\n",
              "      <td>0.125070</td>\n",
              "      <td>0.063937</td>\n",
              "      <td>0.759955</td>\n",
              "      <td>3.424846</td>\n",
              "      <td>0.491307</td>\n",
              "      <td>108.982011</td>\n",
              "      <td>30.243326</td>\n",
              "      <td>1.309310</td>\n",
              "      <td>0.056646</td>\n",
              "    </tr>\n",
              "    <tr>\n",
              "      <th>std</th>\n",
              "      <td>1490.463154</td>\n",
              "      <td>21239.999608</td>\n",
              "      <td>0.489337</td>\n",
              "      <td>18.874375</td>\n",
              "      <td>0.330845</td>\n",
              "      <td>0.244675</td>\n",
              "      <td>0.427170</td>\n",
              "      <td>0.894640</td>\n",
              "      <td>0.499995</td>\n",
              "      <td>48.292204</td>\n",
              "      <td>7.155000</td>\n",
              "      <td>0.810144</td>\n",
              "      <td>0.231198</td>\n",
              "    </tr>\n",
              "    <tr>\n",
              "      <th>min</th>\n",
              "      <td>0.000000</td>\n",
              "      <td>67.000000</td>\n",
              "      <td>0.000000</td>\n",
              "      <td>10.000000</td>\n",
              "      <td>0.000000</td>\n",
              "      <td>0.000000</td>\n",
              "      <td>0.000000</td>\n",
              "      <td>0.000000</td>\n",
              "      <td>0.000000</td>\n",
              "      <td>55.120000</td>\n",
              "      <td>11.500000</td>\n",
              "      <td>0.000000</td>\n",
              "      <td>0.000000</td>\n",
              "    </tr>\n",
              "    <tr>\n",
              "      <th>25%</th>\n",
              "      <td>1221.750000</td>\n",
              "      <td>18042.750000</td>\n",
              "      <td>1.000000</td>\n",
              "      <td>34.000000</td>\n",
              "      <td>0.000000</td>\n",
              "      <td>0.000000</td>\n",
              "      <td>1.000000</td>\n",
              "      <td>3.000000</td>\n",
              "      <td>0.000000</td>\n",
              "      <td>77.460000</td>\n",
              "      <td>25.400000</td>\n",
              "      <td>1.000000</td>\n",
              "      <td>0.000000</td>\n",
              "    </tr>\n",
              "    <tr>\n",
              "      <th>50%</th>\n",
              "      <td>2518.500000</td>\n",
              "      <td>37448.500000</td>\n",
              "      <td>1.000000</td>\n",
              "      <td>50.000000</td>\n",
              "      <td>0.000000</td>\n",
              "      <td>0.000000</td>\n",
              "      <td>1.000000</td>\n",
              "      <td>4.000000</td>\n",
              "      <td>0.000000</td>\n",
              "      <td>92.650000</td>\n",
              "      <td>29.100000</td>\n",
              "      <td>2.000000</td>\n",
              "      <td>0.000000</td>\n",
              "    </tr>\n",
              "    <tr>\n",
              "      <th>75%</th>\n",
              "      <td>3819.500000</td>\n",
              "      <td>54984.250000</td>\n",
              "      <td>2.000000</td>\n",
              "      <td>63.000000</td>\n",
              "      <td>0.000000</td>\n",
              "      <td>0.000000</td>\n",
              "      <td>1.000000</td>\n",
              "      <td>4.000000</td>\n",
              "      <td>1.000000</td>\n",
              "      <td>116.677500</td>\n",
              "      <td>33.800000</td>\n",
              "      <td>2.000000</td>\n",
              "      <td>0.000000</td>\n",
              "    </tr>\n",
              "    <tr>\n",
              "      <th>max</th>\n",
              "      <td>5108.000000</td>\n",
              "      <td>72915.000000</td>\n",
              "      <td>2.000000</td>\n",
              "      <td>82.000000</td>\n",
              "      <td>1.000000</td>\n",
              "      <td>1.000000</td>\n",
              "      <td>1.000000</td>\n",
              "      <td>4.000000</td>\n",
              "      <td>1.000000</td>\n",
              "      <td>271.740000</td>\n",
              "      <td>92.000000</td>\n",
              "      <td>2.000000</td>\n",
              "      <td>1.000000</td>\n",
              "    </tr>\n",
              "  </tbody>\n",
              "</table>\n",
              "</div>\n",
              "      <button class=\"colab-df-convert\" onclick=\"convertToInteractive('df-ed891c60-d340-4afa-a164-45dc593b8863')\"\n",
              "              title=\"Convert this dataframe to an interactive table.\"\n",
              "              style=\"display:none;\">\n",
              "        \n",
              "  <svg xmlns=\"http://www.w3.org/2000/svg\" height=\"24px\"viewBox=\"0 0 24 24\"\n",
              "       width=\"24px\">\n",
              "    <path d=\"M0 0h24v24H0V0z\" fill=\"none\"/>\n",
              "    <path d=\"M18.56 5.44l.94 2.06.94-2.06 2.06-.94-2.06-.94-.94-2.06-.94 2.06-2.06.94zm-11 1L8.5 8.5l.94-2.06 2.06-.94-2.06-.94L8.5 2.5l-.94 2.06-2.06.94zm10 10l.94 2.06.94-2.06 2.06-.94-2.06-.94-.94-2.06-.94 2.06-2.06.94z\"/><path d=\"M17.41 7.96l-1.37-1.37c-.4-.4-.92-.59-1.43-.59-.52 0-1.04.2-1.43.59L10.3 9.45l-7.72 7.72c-.78.78-.78 2.05 0 2.83L4 21.41c.39.39.9.59 1.41.59.51 0 1.02-.2 1.41-.59l7.78-7.78 2.81-2.81c.8-.78.8-2.07 0-2.86zM5.41 20L4 18.59l7.72-7.72 1.47 1.35L5.41 20z\"/>\n",
              "  </svg>\n",
              "      </button>\n",
              "      \n",
              "  <style>\n",
              "    .colab-df-container {\n",
              "      display:flex;\n",
              "      flex-wrap:wrap;\n",
              "      gap: 12px;\n",
              "    }\n",
              "\n",
              "    .colab-df-convert {\n",
              "      background-color: #E8F0FE;\n",
              "      border: none;\n",
              "      border-radius: 50%;\n",
              "      cursor: pointer;\n",
              "      display: none;\n",
              "      fill: #1967D2;\n",
              "      height: 32px;\n",
              "      padding: 0 0 0 0;\n",
              "      width: 32px;\n",
              "    }\n",
              "\n",
              "    .colab-df-convert:hover {\n",
              "      background-color: #E2EBFA;\n",
              "      box-shadow: 0px 1px 2px rgba(60, 64, 67, 0.3), 0px 1px 3px 1px rgba(60, 64, 67, 0.15);\n",
              "      fill: #174EA6;\n",
              "    }\n",
              "\n",
              "    [theme=dark] .colab-df-convert {\n",
              "      background-color: #3B4455;\n",
              "      fill: #D2E3FC;\n",
              "    }\n",
              "\n",
              "    [theme=dark] .colab-df-convert:hover {\n",
              "      background-color: #434B5C;\n",
              "      box-shadow: 0px 1px 3px 1px rgba(0, 0, 0, 0.15);\n",
              "      filter: drop-shadow(0px 1px 2px rgba(0, 0, 0, 0.3));\n",
              "      fill: #FFFFFF;\n",
              "    }\n",
              "  </style>\n",
              "\n",
              "      <script>\n",
              "        const buttonEl =\n",
              "          document.querySelector('#df-ed891c60-d340-4afa-a164-45dc593b8863 button.colab-df-convert');\n",
              "        buttonEl.style.display =\n",
              "          google.colab.kernel.accessAllowed ? 'block' : 'none';\n",
              "\n",
              "        async function convertToInteractive(key) {\n",
              "          const element = document.querySelector('#df-ed891c60-d340-4afa-a164-45dc593b8863');\n",
              "          const dataTable =\n",
              "            await google.colab.kernel.invokeFunction('convertToInteractive',\n",
              "                                                     [key], {});\n",
              "          if (!dataTable) return;\n",
              "\n",
              "          const docLinkHtml = 'Like what you see? Visit the ' +\n",
              "            '<a target=\"_blank\" href=https://colab.research.google.com/notebooks/data_table.ipynb>data table notebook</a>'\n",
              "            + ' to learn more about interactive tables.';\n",
              "          element.innerHTML = '';\n",
              "          dataTable['output_type'] = 'display_data';\n",
              "          await google.colab.output.renderOutput(dataTable, element);\n",
              "          const docLink = document.createElement('div');\n",
              "          docLink.innerHTML = docLinkHtml;\n",
              "          element.appendChild(docLink);\n",
              "        }\n",
              "      </script>\n",
              "    </div>\n",
              "  </div>\n",
              "  "
            ]
          },
          "metadata": {},
          "execution_count": 42
        }
      ]
    },
    {
      "cell_type": "markdown",
      "source": [
        "# Step 2 (Datasets and Dataloaders):\n",
        "- split data between train, test, validation\n",
        "\n",
        "- 20% of the dataset for validation\n",
        "\n",
        "- data is shuffled by default\n",
        "\n",
        "- dataset & dataset loader"
      ],
      "metadata": {
        "id": "0hLNaoCaJ7tX"
      }
    },
    {
      "cell_type": "code",
      "source": [
        "x=np.array(df.drop('stroke',axis=1))\n",
        "y=np.array(df['stroke'])\n",
        "\n",
        "n_samples, n_features = x.shape\n",
        "input_size = n_features\n",
        "output_size = 1\n",
        "\n",
        "X_train, X_test, y_train, y_test = train_test_split(x, y, random_state=10)\n",
        "X_val, X_test, y_val, y_test = train_test_split(X_test, y_test, test_size=0.2, random_state=10)\n",
        "\n",
        "X_train = torch.from_numpy(X_train.astype(np.float32))\n",
        "y_train = torch.from_numpy(y_train.astype(np.float32))\n",
        "X_val = torch.from_numpy(X_val.astype(np.float32))\n",
        "y_val = torch.from_numpy(y_val.astype(np.float32))\n",
        "X_test = torch.from_numpy(X_test.astype(np.float32))\n",
        "y_test = torch.from_numpy(y_test.astype(np.float32))\n",
        "\n",
        "y_train = y_train.reshape(y_train.shape[0], 1)\n",
        "y_val = y_val.reshape(y_val.shape[0], 1)\n",
        "y_test = y_test.reshape(y_test.shape[0], 1)\n",
        "\n",
        "print('Samples in Train Set:', len(X_train))\n",
        "print('Samples in Validation Set:', len(X_val))\n",
        "print('Samples in Test Set:', len(X_test))\n",
        "print('Pacients without stroke(0) vs with stroke(1):')\n",
        "print(df['stroke'].value_counts())"
      ],
      "metadata": {
        "colab": {
          "base_uri": "https://localhost:8080/"
        },
        "id": "JZybMGllINKV",
        "outputId": "08152cab-a6e9-4eec-c258-1db13642b5f6"
      },
      "execution_count": null,
      "outputs": [
        {
          "output_type": "stream",
          "name": "stdout",
          "text": [
            "Samples in Train Set: 2674\n",
            "Samples in Validation Set: 713\n",
            "Samples in Test Set: 179\n",
            "Pacients without stroke(0) vs with stroke(1):\n",
            "0    3364\n",
            "1     202\n",
            "Name: stroke, dtype: int64\n"
          ]
        }
      ]
    },
    {
      "cell_type": "markdown",
      "source": [
        "# Step 3 (Model):\n",
        "- class inherits nn.Module\n",
        "- overwrote init and forward functions\n",
        "- used sequence of linear and relu layers\n"
      ],
      "metadata": {
        "id": "J5-cIFgvwBro"
      }
    },
    {
      "cell_type": "code",
      "source": [
        "class StrokeModel(nn.Module):\n",
        "    def __init__(self):\n",
        "        super(StrokeModel, self).__init__()\n",
        "        self.flatten = nn.Flatten()\n",
        "        self.linear_relu = nn.Sequential(\n",
        "            nn.Linear(input_size, 64),\n",
        "            nn.ReLU(),\n",
        "            nn.Linear(64, 128),\n",
        "            nn.ReLU(),\n",
        "            nn.Linear(128, 256),\n",
        "            nn.ReLU(),\n",
        "            nn.Linear(256, output_size),\n",
        "            #nn.ReLU()\n",
        "        )\n",
        "\n",
        "    def forward(self, x):\n",
        "        x = self.flatten(x)\n",
        "        out = self.linear_relu(x)\n",
        "        return out\n"
      ],
      "metadata": {
        "id": "xKnpoJfcwAy1"
      },
      "execution_count": null,
      "outputs": []
    },
    {
      "cell_type": "code",
      "source": [
        "device = \"cuda\" if torch.cuda.is_available() else \"cpu\"\n",
        "print(f\"Using {device} device\")\n",
        "\n",
        "model = StrokeModel().to(device)\n",
        "print(model)\n",
        "#for param in model. parameters ():\n",
        "#  print(param)"
      ],
      "metadata": {
        "colab": {
          "base_uri": "https://localhost:8080/"
        },
        "id": "4UuqoFdNyH03",
        "outputId": "1db7a4a4-8e35-4fe1-ca38-40d078ac742a"
      },
      "execution_count": null,
      "outputs": [
        {
          "output_type": "stream",
          "name": "stdout",
          "text": [
            "Using cuda device\n",
            "StrokeModel(\n",
            "  (flatten): Flatten(start_dim=1, end_dim=-1)\n",
            "  (linear_relu): Sequential(\n",
            "    (0): Linear(in_features=12, out_features=64, bias=True)\n",
            "    (1): ReLU()\n",
            "    (2): Linear(in_features=64, out_features=128, bias=True)\n",
            "    (3): ReLU()\n",
            "    (4): Linear(in_features=128, out_features=256, bias=True)\n",
            "    (5): ReLU()\n",
            "    (6): Linear(in_features=256, out_features=1, bias=True)\n",
            "  )\n",
            ")\n"
          ]
        }
      ]
    },
    {
      "cell_type": "markdown",
      "source": [
        "# Step 4 (Optimizer and Loss function):\n",
        "- BCEWithLogitsLoss as loss function\n",
        "- Adam as optimizer"
      ],
      "metadata": {
        "id": "0065thrQ_5hQ"
      }
    },
    {
      "cell_type": "code",
      "source": [
        "model=StrokeModel()\n",
        "criterion = nn.BCEWithLogitsLoss(pos_weight=torch.tensor([.06]))\n",
        "optimizer = torch.optim.Adam(model.parameters(), lr=1e-5)\n",
        "print(model)"
      ],
      "metadata": {
        "colab": {
          "base_uri": "https://localhost:8080/"
        },
        "id": "Bw9yDXBMy4xl",
        "outputId": "62ec7434-6f3f-4429-8dc6-e3830739239e"
      },
      "execution_count": null,
      "outputs": [
        {
          "output_type": "stream",
          "name": "stdout",
          "text": [
            "StrokeModel(\n",
            "  (flatten): Flatten(start_dim=1, end_dim=-1)\n",
            "  (linear_relu): Sequential(\n",
            "    (0): Linear(in_features=12, out_features=64, bias=True)\n",
            "    (1): ReLU()\n",
            "    (2): Linear(in_features=64, out_features=128, bias=True)\n",
            "    (3): ReLU()\n",
            "    (4): Linear(in_features=128, out_features=256, bias=True)\n",
            "    (5): ReLU()\n",
            "    (6): Linear(in_features=256, out_features=1, bias=True)\n",
            "  )\n",
            ")\n"
          ]
        }
      ]
    },
    {
      "cell_type": "markdown",
      "source": [
        "# Step 5: Training and Evaluation\n",
        "- iterate through dataset\n",
        "- use gpu\n",
        "- print loss value and accuracy\n"
      ],
      "metadata": {
        "id": "ORXpjBrKGQeg"
      }
    },
    {
      "cell_type": "code",
      "source": [
        "num_epochs = 500\n",
        "max_acc = -1\n",
        "for epoch in range(num_epochs):\n",
        "    # Reset gradients\n",
        "    optimizer.zero_grad()\n",
        "\n",
        "    # Forward + loss\n",
        "    y_predicted = model(X_train)\n",
        "    train_loss = criterion(y_predicted, y_train)\n",
        "    with torch.no_grad():\n",
        "      y_predicted_cls = (torch.sigmoid(y_predicted) > 0.5).float()\n",
        "      #print(y_predicted_cls)\n",
        "      #print(y_train)\n",
        "      acc = y_predicted_cls.eq(y_train).sum() / float(y_train.shape[0])\n",
        "      if acc > max_acc:\n",
        "          max_acc = acc\n",
        "\n",
        "    # Backward + param update\n",
        "    train_loss.backward()\n",
        "    optimizer.step()\n",
        "\n",
        "    with torch.no_grad():\n",
        "        y_predicted = model(X_val)\n",
        "        validation_loss = criterion(y_predicted, y_val)\n",
        "\n",
        "    if (epoch + 1) % 50 == 0:\n",
        "        print(f'epoch: {epoch + 1}, train loss = {train_loss.item():.4f}, validation loss = {validation_loss.item():.4f}, accuracy = {acc:.4f}')\n",
        "\n",
        "print(f'Max accuracy = {max_acc:.4f}')"
      ],
      "metadata": {
        "id": "e1k5uhLPy_zE",
        "colab": {
          "base_uri": "https://localhost:8080/"
        },
        "outputId": "6c930fb9-4369-419a-d9e6-3d687a5cc272"
      },
      "execution_count": null,
      "outputs": [
        {
          "output_type": "stream",
          "name": "stdout",
          "text": [
            "epoch: 50, train loss = 0.0411, validation loss = 0.0413, accuracy = 0.9473\n",
            "epoch: 100, train loss = 0.0042, validation loss = 0.0044, accuracy = 0.9697\n",
            "epoch: 150, train loss = 0.0034, validation loss = 0.0038, accuracy = 0.9787\n",
            "epoch: 200, train loss = 0.0032, validation loss = 0.0036, accuracy = 0.9806\n",
            "epoch: 250, train loss = 0.0029, validation loss = 0.0033, accuracy = 0.9809\n",
            "epoch: 300, train loss = 0.0028, validation loss = 0.0032, accuracy = 0.9817\n",
            "epoch: 350, train loss = 0.0028, validation loss = 0.0032, accuracy = 0.9824\n",
            "epoch: 400, train loss = 0.0027, validation loss = 0.0032, accuracy = 0.9828\n",
            "epoch: 450, train loss = 0.0027, validation loss = 0.0032, accuracy = 0.9839\n",
            "epoch: 500, train loss = 0.0027, validation loss = 0.0032, accuracy = 0.9839\n",
            "Max accuracy = 0.9929\n"
          ]
        }
      ]
    },
    {
      "cell_type": "markdown",
      "source": [
        "# Step 6: Balancing the training data\n",
        "\n",
        "- print confusion matrix"
      ],
      "metadata": {
        "id": "XqaywGPkMBJF"
      }
    },
    {
      "cell_type": "code",
      "source": [
        "from sklearn.metrics import plot_confusion_matrix\n",
        "from sklearn.svm import SVC\n",
        "from sklearn.metrics import precision_recall_fscore_support\n",
        "with torch.no_grad():\n",
        "    y_predicted = model(X_test)\n",
        "    y_predicted_cls = (torch.sigmoid(y_predicted) > 0.5).float()\n",
        "    acc = y_predicted_cls.eq(y_test).sum() / float(y_test.shape[0])\n",
        "    print(f'accuracy: {acc:.4f}')\n",
        "\n",
        "    for i in range(10):\n",
        "        r = random.randint(1, y_test.shape[0])\n",
        "        print(f'Prediction: {y_predicted_cls[r].item()}, Actual values: {y_test[r].item()}')\n",
        "\n",
        "    precision, recall, F1, _ = precision_recall_fscore_support(y_test, y_predicted_cls, average='macro')\n",
        "    print('Precision: ', precision, ' Recall: ', recall, ' fscore: ', F1)\n",
        "    conf_matrix = confusion_matrix(y_predicted_cls, y_test)\n",
        "    disp = ConfusionMatrixDisplay(conf_matrix)\n",
        "    disp.plot()\n",
        "    plt.show"
      ],
      "metadata": {
        "colab": {
          "base_uri": "https://localhost:8080/",
          "height": 493
        },
        "id": "DmlPpPEGIl6S",
        "outputId": "7935f50f-d406-4363-86f5-d25b51e112ff"
      },
      "execution_count": null,
      "outputs": [
        {
          "output_type": "stream",
          "name": "stdout",
          "text": [
            "accuracy: 0.9721\n",
            "Prediction: 0.0, Actual values: 0.0\n",
            "Prediction: 0.0, Actual values: 0.0\n",
            "Prediction: 0.0, Actual values: 0.0\n",
            "Prediction: 0.0, Actual values: 0.0\n",
            "Prediction: 0.0, Actual values: 0.0\n",
            "Prediction: 0.0, Actual values: 0.0\n",
            "Prediction: 0.0, Actual values: 0.0\n",
            "Prediction: 0.0, Actual values: 0.0\n",
            "Prediction: 0.0, Actual values: 0.0\n",
            "Prediction: 0.0, Actual values: 0.0\n",
            "Precision:  0.9851190476190477  Recall:  0.84375  fscore:  0.8998545373167729\n"
          ]
        },
        {
          "output_type": "display_data",
          "data": {
            "text/plain": [
              "<Figure size 432x288 with 2 Axes>"
            ],
            "image/png": "[encoded data removed]"
          },
          "metadata": {
            "needs_background": "light"
          }
        }
      ]
    }
  ]
}